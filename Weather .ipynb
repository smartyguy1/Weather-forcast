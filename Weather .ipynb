{
 "cells": [
  {
   "cell_type": "code",
   "execution_count": 99,
   "id": "2fa69038",
   "metadata": {},
   "outputs": [],
   "source": [
    "import requests\n",
    "import pandas as pd\n",
    "import numpy as np\n",
    "import datetime\n",
    "import matplotlib.pyplot as plt"
   ]
  },
  {
   "cell_type": "code",
   "execution_count": 4,
   "id": "7941d4b4",
   "metadata": {},
   "outputs": [
    {
     "data": {
      "text/plain": [
       "{'userId': 1, 'id': 1, 'title': 'delectus aut autem', 'completed': False}"
      ]
     },
     "execution_count": 4,
     "metadata": {},
     "output_type": "execute_result"
    }
   ],
   "source": [
    "api_url = \"https://jsonplaceholder.typicode.com/todos/1\"\n",
    "response = requests.get(api_url)\n",
    "response.json()"
   ]
  },
  {
   "cell_type": "code",
   "execution_count": 33,
   "id": "661de3a6",
   "metadata": {},
   "outputs": [],
   "source": [
    "api_call = \"https://api.openweathermap.org/data/2.5/forecast?q=jaipur&units=metric&cnt=1&appid=59c4e3002bb3db21a6de6d8963594d85\""
   ]
  },
  {
   "cell_type": "code",
   "execution_count": 34,
   "id": "c114a207",
   "metadata": {},
   "outputs": [
    {
     "data": {
      "text/plain": [
       "200"
      ]
     },
     "execution_count": 34,
     "metadata": {},
     "output_type": "execute_result"
    }
   ],
   "source": [
    "response = requests.get(api_call)\n",
    "response.status_code"
   ]
  },
  {
   "cell_type": "code",
   "execution_count": 35,
   "id": "9fc61d72",
   "metadata": {},
   "outputs": [],
   "source": [
    "r = response.json()"
   ]
  },
  {
   "cell_type": "code",
   "execution_count": 36,
   "id": "212d1b69",
   "metadata": {},
   "outputs": [
    {
     "data": {
      "text/plain": [
       "{'cod': '200',\n",
       " 'message': 0,\n",
       " 'cnt': 1,\n",
       " 'list': [{'dt': 1667844000,\n",
       "   'main': {'temp': 23.98,\n",
       "    'feels_like': 23.63,\n",
       "    'temp_min': 23.98,\n",
       "    'temp_max': 24.69,\n",
       "    'pressure': 1015,\n",
       "    'sea_level': 1015,\n",
       "    'grnd_level': 964,\n",
       "    'humidity': 46,\n",
       "    'temp_kf': -0.71},\n",
       "   'weather': [{'id': 802,\n",
       "     'main': 'Clouds',\n",
       "     'description': 'scattered clouds',\n",
       "     'icon': '03n'}],\n",
       "   'clouds': {'all': 48},\n",
       "   'wind': {'speed': 2.42, 'deg': 37, 'gust': 3.04},\n",
       "   'visibility': 10000,\n",
       "   'pop': 0,\n",
       "   'sys': {'pod': 'n'},\n",
       "   'dt_txt': '2022-11-07 18:00:00'}],\n",
       " 'city': {'id': 1269515,\n",
       "  'name': 'Jaipur',\n",
       "  'coord': {'lat': 26.9167, 'lon': 75.8167},\n",
       "  'country': 'IN',\n",
       "  'population': 2711758,\n",
       "  'timezone': 19800,\n",
       "  'sunrise': 1667783424,\n",
       "  'sunset': 1667823024}}"
      ]
     },
     "execution_count": 36,
     "metadata": {},
     "output_type": "execute_result"
    }
   ],
   "source": [
    "r\n",
    "        "
   ]
  },
  {
   "cell_type": "code",
   "execution_count": 64,
   "id": "142700be",
   "metadata": {},
   "outputs": [],
   "source": [
    "main = r['list'][0]['main']"
   ]
  },
  {
   "cell_type": "code",
   "execution_count": 87,
   "id": "a31ce2aa",
   "metadata": {},
   "outputs": [],
   "source": [
    "forecast_time = r['list'][-1]['dt_txt']\n",
    "temp = "
   ]
  },
  {
   "cell_type": "code",
   "execution_count": 92,
   "id": "576c64b2",
   "metadata": {},
   "outputs": [],
   "source": [
    "temp2 = pd.DataFrame(pd.Series(list(main.values())[0:4], index = list(main.keys())[0:4]))"
   ]
  },
  {
   "cell_type": "code",
   "execution_count": 93,
   "id": "b193371d",
   "metadata": {
    "scrolled": true
   },
   "outputs": [
    {
     "data": {
      "text/html": [
       "<div>\n",
       "<style scoped>\n",
       "    .dataframe tbody tr th:only-of-type {\n",
       "        vertical-align: middle;\n",
       "    }\n",
       "\n",
       "    .dataframe tbody tr th {\n",
       "        vertical-align: top;\n",
       "    }\n",
       "\n",
       "    .dataframe thead th {\n",
       "        text-align: right;\n",
       "    }\n",
       "</style>\n",
       "<table border=\"1\" class=\"dataframe\">\n",
       "  <thead>\n",
       "    <tr style=\"text-align: right;\">\n",
       "      <th></th>\n",
       "      <th>0</th>\n",
       "    </tr>\n",
       "  </thead>\n",
       "  <tbody>\n",
       "    <tr>\n",
       "      <th>temp</th>\n",
       "      <td>23.98</td>\n",
       "    </tr>\n",
       "    <tr>\n",
       "      <th>feels_like</th>\n",
       "      <td>23.63</td>\n",
       "    </tr>\n",
       "    <tr>\n",
       "      <th>temp_min</th>\n",
       "      <td>23.98</td>\n",
       "    </tr>\n",
       "    <tr>\n",
       "      <th>temp_max</th>\n",
       "      <td>24.69</td>\n",
       "    </tr>\n",
       "  </tbody>\n",
       "</table>\n",
       "</div>"
      ],
      "text/plain": [
       "                0\n",
       "temp        23.98\n",
       "feels_like  23.63\n",
       "temp_min    23.98\n",
       "temp_max    24.69"
      ]
     },
     "execution_count": 93,
     "metadata": {},
     "output_type": "execute_result"
    }
   ],
   "source": [
    "temp2"
   ]
  },
  {
   "cell_type": "code",
   "execution_count": 98,
   "id": "fc73d1c5",
   "metadata": {},
   "outputs": [
    {
     "data": {
      "text/plain": [
       "<matplotlib.legend.Legend at 0x7f9a4f1450f0>"
      ]
     },
     "execution_count": 98,
     "metadata": {},
     "output_type": "execute_result"
    },
    {
     "data": {
      "image/png": "[encoded data removed]",
      "text/plain": [
       "<Figure size 432x288 with 1 Axes>"
      ]
     },
     "metadata": {
      "needs_background": "light"
     },
     "output_type": "display_data"
    }
   ],
   "source": [
    "temp2.boxplot()\n",
    "plt.legend(temp2.index)"
   ]
  },
  {
   "cell_type": "code",
   "execution_count": 97,
   "id": "586d055c",
   "metadata": {},
   "outputs": [
    {
     "data": {
      "text/plain": [
       "Index(['temp', 'feels_like', 'temp_min', 'temp_max'], dtype='object')"
      ]
     },
     "execution_count": 97,
     "metadata": {},
     "output_type": "execute_result"
    }
   ],
   "source": [
    "temp2.index"
   ]
  },
  {
   "cell_type": "code",
   "execution_count": null,
   "id": "16fa1e49",
   "metadata": {},
   "outputs": [],
   "source": []
  }
 ],
 "metadata": {
  "kernelspec": {
   "display_name": "Python 3 (ipykernel)",
   "language": "python",
   "name": "python3"
  },
  "language_info": {
   "codemirror_mode": {
    "name": "ipython",
    "version": 3
   },
   "file_extension": ".py",
   "mimetype": "text/x-python",
   "name": "python",
   "nbconvert_exporter": "python",
   "pygments_lexer": "ipython3",
   "version": "3.10.6"
  }
 },
 "nbformat": 4,
 "nbformat_minor": 5
}
